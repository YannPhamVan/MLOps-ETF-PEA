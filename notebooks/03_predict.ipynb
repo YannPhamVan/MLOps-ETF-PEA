{
 "cells": [
  {
   "cell_type": "code",
   "execution_count": 1,
   "id": "244b3d19-a32e-4eda-9c3a-34dd898507db",
   "metadata": {},
   "outputs": [],
   "source": [
    "# 03_predict.ipynb\n",
    "\n",
    "import pandas as pd\n",
    "import mlflow\n",
    "from pathlib import Path"
   ]
  },
  {
   "cell_type": "code",
   "execution_count": 2,
   "id": "488b3a13-84b6-4762-a9a9-ee16899be88f",
   "metadata": {},
   "outputs": [],
   "source": [
    "# 📌 Chemins\n",
    "FEATURES_DIR = Path(\"../data/features\")\n",
    "PREDICTIONS_DIR = Path(\"../data/predictions\")\n",
    "PREDICTIONS_DIR.mkdir(parents=True, exist_ok=True)"
   ]
  },
  {
   "cell_type": "code",
   "execution_count": 3,
   "id": "b394b311-49f6-4ece-ae15-a00bf547e5e3",
   "metadata": {},
   "outputs": [],
   "source": [
    "# 🎯 Paramètres\n",
    "EXPERIMENT_NAME = \"ETF_PEA_MLOpsZoomcamp\""
   ]
  },
  {
   "cell_type": "code",
   "execution_count": 4,
   "id": "7142954b-9612-4a15-ae72-0ca1c21c8c91",
   "metadata": {},
   "outputs": [
    {
     "name": "stdout",
     "output_type": "stream",
     "text": [
      "✅ Loaded 3802 rows\n"
     ]
    }
   ],
   "source": [
    "# ✅ Charger les données\n",
    "feature_files = list(FEATURES_DIR.glob(\"*_features.parquet\"))\n",
    "dfs = []\n",
    "\n",
    "for file in feature_files:\n",
    "    df = pd.read_parquet(file)\n",
    "    df['ticker'] = file.stem.split(\"_\")[0]\n",
    "    dfs.append(df)\n",
    "\n",
    "df_all = pd.concat(dfs).reset_index(drop=True)\n",
    "print(f\"✅ Loaded {len(df_all)} rows\")"
   ]
  },
  {
   "cell_type": "code",
   "execution_count": 5,
   "id": "4db4bab8-8a17-42a8-8e5f-6e015ece592d",
   "metadata": {},
   "outputs": [],
   "source": [
    "# ✅ Sélection des features (hors target, ticker)\n",
    "feature_cols = [col for col in df_all.columns if col not in [('target', ''), 'ticker']]"
   ]
  },
  {
   "cell_type": "code",
   "execution_count": 6,
   "id": "ba3c5aea-986f-479e-8920-66bcaf573403",
   "metadata": {},
   "outputs": [],
   "source": [
    "# 💡 Nettoyage des noms de colonnes pour compatibilité LightGBM\n",
    "clean_feature_cols = [\n",
    "    col if isinstance(col, str) else col[0] if col[1] == '' else f\"{col[0]}_{col[1]}\"\n",
    "    for col in feature_cols\n",
    "]\n",
    "\n",
    "df_all.columns = [\n",
    "    col if isinstance(col, str) else col[0] if col[1] == '' else f\"{col[0]}_{col[1]}\"\n",
    "    for col in df_all.columns\n",
    "]\n",
    "\n",
    "X = df_all[clean_feature_cols]"
   ]
  },
  {
   "cell_type": "code",
   "execution_count": 7,
   "id": "8ec7b3f5-b0ae-4f9e-9a0b-ea3e3b8f39e0",
   "metadata": {},
   "outputs": [
    {
     "ename": "OSError",
     "evalue": "No such file or directory: 'G:\\Mon Drive\\DataTalksClub\\MLOps-ETF-PEA\\mlruns\\279597552178412770\\71bb2a63ce314583a6cffaff0b95166b\\artifacts\\model\\.'",
     "output_type": "error",
     "traceback": [
      "\u001b[31m---------------------------------------------------------------------------\u001b[39m",
      "\u001b[31mOSError\u001b[39m                                   Traceback (most recent call last)",
      "\u001b[36mCell\u001b[39m\u001b[36m \u001b[39m\u001b[32mIn[7]\u001b[39m\u001b[32m, line 5\u001b[39m\n\u001b[32m      2\u001b[39m mlflow.set_tracking_uri(\u001b[33m\"\u001b[39m\u001b[33mfile:///G:/Mon Drive/DataTalksClub/MLOps-ETF-PEA/mlruns\u001b[39m\u001b[33m\"\u001b[39m)\n\u001b[32m      3\u001b[39m model_uri = \u001b[33mf\u001b[39m\u001b[33m\"\u001b[39m\u001b[33mmodels:/\u001b[39m\u001b[38;5;132;01m{\u001b[39;00mEXPERIMENT_NAME\u001b[38;5;132;01m}\u001b[39;00m\u001b[33m/latest\u001b[39m\u001b[33m\"\u001b[39m\n\u001b[32m----> \u001b[39m\u001b[32m5\u001b[39m model = \u001b[43mmlflow\u001b[49m\u001b[43m.\u001b[49m\u001b[43mpyfunc\u001b[49m\u001b[43m.\u001b[49m\u001b[43mload_model\u001b[49m\u001b[43m(\u001b[49m\u001b[43mmodel_uri\u001b[49m\u001b[43m)\u001b[49m\n\u001b[32m      6\u001b[39m \u001b[38;5;28mprint\u001b[39m(\u001b[33m\"\u001b[39m\u001b[33m✅ Model loaded from MLflow\u001b[39m\u001b[33m\"\u001b[39m)\n",
      "\u001b[36mFile \u001b[39m\u001b[32m~\\.virtualenvs\\MLOps-ETF-PEA-I1okvr6E\\Lib\\site-packages\\mlflow\\tracing\\provider.py:435\u001b[39m, in \u001b[36mtrace_disabled.<locals>.wrapper\u001b[39m\u001b[34m(*args, **kwargs)\u001b[39m\n\u001b[32m    433\u001b[39m disable()\n\u001b[32m    434\u001b[39m \u001b[38;5;28;01mtry\u001b[39;00m:\n\u001b[32m--> \u001b[39m\u001b[32m435\u001b[39m     is_func_called, result = \u001b[38;5;28;01mTrue\u001b[39;00m, \u001b[43mf\u001b[49m\u001b[43m(\u001b[49m\u001b[43m*\u001b[49m\u001b[43margs\u001b[49m\u001b[43m,\u001b[49m\u001b[43m \u001b[49m\u001b[43m*\u001b[49m\u001b[43m*\u001b[49m\u001b[43mkwargs\u001b[49m\u001b[43m)\u001b[49m\n\u001b[32m    436\u001b[39m \u001b[38;5;28;01mfinally\u001b[39;00m:\n\u001b[32m    437\u001b[39m     enable()\n",
      "\u001b[36mFile \u001b[39m\u001b[32m~\\.virtualenvs\\MLOps-ETF-PEA-I1okvr6E\\Lib\\site-packages\\mlflow\\pyfunc\\__init__.py:1127\u001b[39m, in \u001b[36mload_model\u001b[39m\u001b[34m(model_uri, suppress_warnings, dst_path, model_config)\u001b[39m\n\u001b[32m   1123\u001b[39m         entity_list.append(Entity(job=job_entity))\n\u001b[32m   1125\u001b[39m     lineage_header_info = LineageHeaderInfo(entities=entity_list) \u001b[38;5;28;01mif\u001b[39;00m entity_list \u001b[38;5;28;01melse\u001b[39;00m \u001b[38;5;28;01mNone\u001b[39;00m\n\u001b[32m-> \u001b[39m\u001b[32m1127\u001b[39m local_path = \u001b[43m_download_artifact_from_uri\u001b[49m\u001b[43m(\u001b[49m\n\u001b[32m   1128\u001b[39m \u001b[43m    \u001b[49m\u001b[43martifact_uri\u001b[49m\u001b[43m=\u001b[49m\u001b[43mmodel_uri\u001b[49m\u001b[43m,\u001b[49m\u001b[43m \u001b[49m\u001b[43moutput_path\u001b[49m\u001b[43m=\u001b[49m\u001b[43mdst_path\u001b[49m\u001b[43m,\u001b[49m\u001b[43m \u001b[49m\u001b[43mlineage_header_info\u001b[49m\u001b[43m=\u001b[49m\u001b[43mlineage_header_info\u001b[49m\n\u001b[32m   1129\u001b[39m \u001b[43m\u001b[49m\u001b[43m)\u001b[49m\n\u001b[32m   1131\u001b[39m \u001b[38;5;28;01mif\u001b[39;00m \u001b[38;5;129;01mnot\u001b[39;00m suppress_warnings:\n\u001b[32m   1132\u001b[39m     model_requirements = _get_pip_requirements_from_model_path(local_path)\n",
      "\u001b[36mFile \u001b[39m\u001b[32m~\\.virtualenvs\\MLOps-ETF-PEA-I1okvr6E\\Lib\\site-packages\\mlflow\\tracking\\artifact_utils.py:112\u001b[39m, in \u001b[36m_download_artifact_from_uri\u001b[39m\u001b[34m(artifact_uri, output_path, lineage_header_info)\u001b[39m\n\u001b[32m    110\u001b[39m \u001b[38;5;28;01mtry\u001b[39;00m:\n\u001b[32m    111\u001b[39m     \u001b[38;5;28;01mif\u001b[39;00m \u001b[38;5;28misinstance\u001b[39m(repo, ModelsArtifactRepository):\n\u001b[32m--> \u001b[39m\u001b[32m112\u001b[39m         \u001b[38;5;28;01mreturn\u001b[39;00m \u001b[43mrepo\u001b[49m\u001b[43m.\u001b[49m\u001b[43mdownload_artifacts\u001b[49m\u001b[43m(\u001b[49m\n\u001b[32m    113\u001b[39m \u001b[43m            \u001b[49m\u001b[43martifact_path\u001b[49m\u001b[43m=\u001b[49m\u001b[43martifact_path\u001b[49m\u001b[43m,\u001b[49m\n\u001b[32m    114\u001b[39m \u001b[43m            \u001b[49m\u001b[43mdst_path\u001b[49m\u001b[43m=\u001b[49m\u001b[43moutput_path\u001b[49m\u001b[43m,\u001b[49m\n\u001b[32m    115\u001b[39m \u001b[43m            \u001b[49m\u001b[43mlineage_header_info\u001b[49m\u001b[43m=\u001b[49m\u001b[43mlineage_header_info\u001b[49m\u001b[43m,\u001b[49m\n\u001b[32m    116\u001b[39m \u001b[43m        \u001b[49m\u001b[43m)\u001b[49m\n\u001b[32m    117\u001b[39m     \u001b[38;5;28;01mreturn\u001b[39;00m repo.download_artifacts(artifact_path=artifact_path, dst_path=output_path)\n\u001b[32m    118\u001b[39m \u001b[38;5;28;01mexcept\u001b[39;00m \u001b[38;5;167;01mException\u001b[39;00m \u001b[38;5;28;01mas\u001b[39;00m e:\n",
      "\u001b[36mFile \u001b[39m\u001b[32m~\\.virtualenvs\\MLOps-ETF-PEA-I1okvr6E\\Lib\\site-packages\\mlflow\\store\\artifact\\models_artifact_repo.py:237\u001b[39m, in \u001b[36mModelsArtifactRepository.download_artifacts\u001b[39m\u001b[34m(self, artifact_path, dst_path, lineage_header_info)\u001b[39m\n\u001b[32m    233\u001b[39m     model_path = \u001b[38;5;28mself\u001b[39m.repo.download_artifacts(\n\u001b[32m    234\u001b[39m         artifact_path, dst_path, lineage_header_info=lineage_header_info\n\u001b[32m    235\u001b[39m     )\n\u001b[32m    236\u001b[39m \u001b[38;5;28;01melse\u001b[39;00m:\n\u001b[32m--> \u001b[39m\u001b[32m237\u001b[39m     model_path = \u001b[38;5;28;43mself\u001b[39;49m\u001b[43m.\u001b[49m\u001b[43mrepo\u001b[49m\u001b[43m.\u001b[49m\u001b[43mdownload_artifacts\u001b[49m\u001b[43m(\u001b[49m\u001b[43martifact_path\u001b[49m\u001b[43m,\u001b[49m\u001b[43m \u001b[49m\u001b[43mdst_path\u001b[49m\u001b[43m)\u001b[49m\n\u001b[32m    238\u001b[39m \u001b[38;5;66;03m# NB: only add the registered model metadata iff the artifact path is at the root model\u001b[39;00m\n\u001b[32m    239\u001b[39m \u001b[38;5;66;03m# directory. For individual files or subdirectories within the model directory, do not\u001b[39;00m\n\u001b[32m    240\u001b[39m \u001b[38;5;66;03m# create the metadata file.\u001b[39;00m\n\u001b[32m    241\u001b[39m \u001b[38;5;28;01mif\u001b[39;00m os.path.isdir(model_path) \u001b[38;5;129;01mand\u001b[39;00m MLMODEL_FILE_NAME \u001b[38;5;129;01min\u001b[39;00m os.listdir(model_path):\n",
      "\u001b[36mFile \u001b[39m\u001b[32m~\\.virtualenvs\\MLOps-ETF-PEA-I1okvr6E\\Lib\\site-packages\\mlflow\\store\\artifact\\local_artifact_repo.py:91\u001b[39m, in \u001b[36mLocalArtifactRepository.download_artifacts\u001b[39m\u001b[34m(self, artifact_path, dst_path)\u001b[39m\n\u001b[32m     89\u001b[39m local_artifact_path = os.path.join(\u001b[38;5;28mself\u001b[39m.artifact_dir, os.path.normpath(artifact_path))\n\u001b[32m     90\u001b[39m \u001b[38;5;28;01mif\u001b[39;00m \u001b[38;5;129;01mnot\u001b[39;00m os.path.exists(local_artifact_path):\n\u001b[32m---> \u001b[39m\u001b[32m91\u001b[39m     \u001b[38;5;28;01mraise\u001b[39;00m \u001b[38;5;167;01mOSError\u001b[39;00m(\u001b[33mf\u001b[39m\u001b[33m\"\u001b[39m\u001b[33mNo such file or directory: \u001b[39m\u001b[33m'\u001b[39m\u001b[38;5;132;01m{\u001b[39;00mlocal_artifact_path\u001b[38;5;132;01m}\u001b[39;00m\u001b[33m'\u001b[39m\u001b[33m\"\u001b[39m)\n\u001b[32m     92\u001b[39m \u001b[38;5;28;01mreturn\u001b[39;00m os.path.abspath(local_artifact_path)\n",
      "\u001b[31mOSError\u001b[39m: No such file or directory: 'G:\\Mon Drive\\DataTalksClub\\MLOps-ETF-PEA\\mlruns\\279597552178412770\\71bb2a63ce314583a6cffaff0b95166b\\artifacts\\model\\.'"
     ]
    }
   ],
   "source": [
    "# ✅ Charger le modèle MLflow\n",
    "mlflow.set_tracking_uri(\"file:///G:/Mon Drive/DataTalksClub/MLOps-ETF-PEA/mlruns\")\n",
    "model_uri = f\"models:/{EXPERIMENT_NAME}/latest\"\n",
    "\n",
    "model = mlflow.pyfunc.load_model(model_uri)\n",
    "print(\"✅ Model loaded from MLflow\")"
   ]
  },
  {
   "cell_type": "code",
   "execution_count": null,
   "id": "0d66f8ef-a856-49c9-b9ef-152a9d9a7cd0",
   "metadata": {},
   "outputs": [],
   "source": []
  },
  {
   "cell_type": "code",
   "execution_count": null,
   "id": "9d7f14f6-92c1-4708-ba58-fea22c4b00d7",
   "metadata": {},
   "outputs": [],
   "source": [
    "\n",
    "\n",
    "\n",
    "\n",
    "\n",
    "\n",
    "\n",
    "\n",
    "\n",
    "\n",
    "\n",
    "\n",
    "# ✅ Prédictions\n",
    "df_all['prediction'] = model.predict(X)\n",
    "print(\"✅ Predictions completed\")\n",
    "\n",
    "# ✅ Sauvegarde des prédictions\n",
    "output_path = PREDICTIONS_DIR / \"predictions.parquet\"\n",
    "df_all.to_parquet(output_path, index=False)\n",
    "print(f\"✅ Predictions saved to {output_path}\")\n"
   ]
  }
 ],
 "metadata": {
  "kernelspec": {
   "display_name": "Python 3 (ipykernel)",
   "language": "python",
   "name": "python3"
  },
  "language_info": {
   "codemirror_mode": {
    "name": "ipython",
    "version": 3
   },
   "file_extension": ".py",
   "mimetype": "text/x-python",
   "name": "python",
   "nbconvert_exporter": "python",
   "pygments_lexer": "ipython3",
   "version": "3.12.8"
  }
 },
 "nbformat": 4,
 "nbformat_minor": 5
}
