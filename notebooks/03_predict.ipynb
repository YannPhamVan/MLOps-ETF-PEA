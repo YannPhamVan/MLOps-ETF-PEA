{
 "cells": [
  {
   "cell_type": "code",
   "execution_count": 1,
   "id": "244b3d19-a32e-4eda-9c3a-34dd898507db",
   "metadata": {},
   "outputs": [],
   "source": [
    "# 📌 03_predict.ipynb - Predict ETF forward returns with registered MLflow model\n",
    "\n",
    "import pandas as pd\n",
    "from pathlib import Path\n",
    "from sklearn.metrics import root_mean_squared_error, r2_score\n",
    "import mlflow\n",
    "from mlflow.tracking import MlflowClient"
   ]
  },
  {
   "cell_type": "code",
   "execution_count": 2,
   "id": "488b3a13-84b6-4762-a9a9-ee16899be88f",
   "metadata": {},
   "outputs": [],
   "source": [
    "# 🚩 Config\n",
    "EXPERIMENT_NAME = \"ETF_PEA_MLOpsZoomcamp\"\n",
    "TRACKING_URI = \"file:///G:/Mon Drive/DataTalksClub/MLOps-ETF-PEA/mlruns\"\n",
    "\n",
    "DATA_PATH = Path(\"../data/df_all.parquet\")\n",
    "PREDICTIONS_DIR = Path(\"../data/predictions\")\n",
    "PREDICTIONS_DIR.mkdir(parents=True, exist_ok=True)"
   ]
  },
  {
   "cell_type": "code",
   "execution_count": 3,
   "id": "b394b311-49f6-4ece-ae15-a00bf547e5e3",
   "metadata": {},
   "outputs": [],
   "source": [
    "# 🚩 Init MLflow\n",
    "mlflow.set_tracking_uri(TRACKING_URI)\n",
    "client = MlflowClient()"
   ]
  },
  {
   "cell_type": "code",
   "execution_count": 4,
   "id": "7142954b-9612-4a15-ae72-0ca1c21c8c91",
   "metadata": {},
   "outputs": [
    {
     "name": "stderr",
     "output_type": "stream",
     "text": [
      "C:\\Users\\Zelric\\AppData\\Local\\Temp\\ipykernel_10872\\3383290263.py:3: FutureWarning: ``mlflow.tracking.client.MlflowClient.get_latest_versions`` is deprecated since 2.9.0. Model registry stages will be removed in a future major release. To learn more about the deprecation of model registry stages, see our migration guide here: https://mlflow.org/docs/latest/model-registry.html#migrating-from-stages\n",
      "  latest_versions = client.get_latest_versions(model_name, stages=[\"None\"])\n"
     ]
    },
    {
     "name": "stdout",
     "output_type": "stream",
     "text": [
      "✅ Model v1 loaded from MLflow Registry.\n"
     ]
    }
   ],
   "source": [
    "# ✅ Load latest model version from Registry\n",
    "model_name = EXPERIMENT_NAME\n",
    "latest_versions = client.get_latest_versions(model_name, stages=[\"None\"])\n",
    "model_uri = f\"models:/{model_name}/{latest_versions[0].version}\"\n",
    "\n",
    "model = mlflow.pyfunc.load_model(model_uri)\n",
    "print(f\"✅ Model v{latest_versions[0].version} loaded from MLflow Registry.\")"
   ]
  },
  {
   "cell_type": "code",
   "execution_count": 5,
   "id": "4db4bab8-8a17-42a8-8e5f-6e015ece592d",
   "metadata": {},
   "outputs": [
    {
     "name": "stdout",
     "output_type": "stream",
     "text": [
      "✅ Data shape: (3802, 32)\n"
     ]
    }
   ],
   "source": [
    "# ✅ Load data\n",
    "df_all = pd.read_parquet(DATA_PATH)\n",
    "print(f\"✅ Data shape: {df_all.shape}\")"
   ]
  },
  {
   "cell_type": "code",
   "execution_count": 6,
   "id": "ba3c5aea-986f-479e-8920-66bcaf573403",
   "metadata": {},
   "outputs": [],
   "source": [
    "# ✅ Predict\n",
    "feature_cols = [col for col in df_all.columns if col not in [\"target\", \"ticker\"]]\n",
    "X = df_all[feature_cols]\n",
    "y_true = df_all[\"target\"]\n",
    "\n",
    "y_pred = model.predict(X)"
   ]
  },
  {
   "cell_type": "code",
   "execution_count": 7,
   "id": "8ec7b3f5-b0ae-4f9e-9a0b-ea3e3b8f39e0",
   "metadata": {},
   "outputs": [
    {
     "name": "stdout",
     "output_type": "stream",
     "text": [
      "✅ Predictions saved to ..\\data\\predictions\\predictions.parquet\n"
     ]
    }
   ],
   "source": [
    "# ✅ Save predictions\n",
    "df_all[\"prediction\"] = y_pred\n",
    "pred_file = PREDICTIONS_DIR / \"predictions.parquet\"\n",
    "df_all.to_parquet(pred_file, index=False)\n",
    "print(f\"✅ Predictions saved to {pred_file}\")"
   ]
  },
  {
   "cell_type": "code",
   "execution_count": 8,
   "id": "0d66f8ef-a856-49c9-b9ef-152a9d9a7cd0",
   "metadata": {},
   "outputs": [
    {
     "name": "stdout",
     "output_type": "stream",
     "text": [
      "✅ Evaluation on full dataset -> RMSE: 0.03199, R²: 0.58002\n"
     ]
    }
   ],
   "source": [
    "# ✅ Quick evaluation\n",
    "rmse = root_mean_squared_error(y_true, y_pred)\n",
    "r2 = r2_score(y_true, y_pred)\n",
    "print(f\"✅ Evaluation on full dataset -> RMSE: {rmse:.5f}, R²: {r2:.5f}\")"
   ]
  },
  {
   "cell_type": "code",
   "execution_count": 9,
   "id": "65f98c1b-fdc4-4749-8c57-c7d0b2cb0aaa",
   "metadata": {},
   "outputs": [
    {
     "data": {
      "text/html": [
       "<div>\n",
       "<style scoped>\n",
       "    .dataframe tbody tr th:only-of-type {\n",
       "        vertical-align: middle;\n",
       "    }\n",
       "\n",
       "    .dataframe tbody tr th {\n",
       "        vertical-align: top;\n",
       "    }\n",
       "\n",
       "    .dataframe thead th {\n",
       "        text-align: right;\n",
       "    }\n",
       "</style>\n",
       "<table border=\"1\" class=\"dataframe\">\n",
       "  <thead>\n",
       "    <tr style=\"text-align: right;\">\n",
       "      <th></th>\n",
       "      <th>target</th>\n",
       "      <th>prediction</th>\n",
       "    </tr>\n",
       "  </thead>\n",
       "  <tbody>\n",
       "    <tr>\n",
       "      <th>0</th>\n",
       "      <td>-0.002188</td>\n",
       "      <td>0.006127</td>\n",
       "    </tr>\n",
       "    <tr>\n",
       "      <th>1</th>\n",
       "      <td>-0.006561</td>\n",
       "      <td>0.003394</td>\n",
       "    </tr>\n",
       "    <tr>\n",
       "      <th>2</th>\n",
       "      <td>0.006937</td>\n",
       "      <td>0.004475</td>\n",
       "    </tr>\n",
       "    <tr>\n",
       "      <th>3</th>\n",
       "      <td>-0.007032</td>\n",
       "      <td>0.005034</td>\n",
       "    </tr>\n",
       "    <tr>\n",
       "      <th>4</th>\n",
       "      <td>-0.044017</td>\n",
       "      <td>-0.007682</td>\n",
       "    </tr>\n",
       "  </tbody>\n",
       "</table>\n",
       "</div>"
      ],
      "text/plain": [
       "     target  prediction\n",
       "0 -0.002188    0.006127\n",
       "1 -0.006561    0.003394\n",
       "2  0.006937    0.004475\n",
       "3 -0.007032    0.005034\n",
       "4 -0.044017   -0.007682"
      ]
     },
     "execution_count": 9,
     "metadata": {},
     "output_type": "execute_result"
    }
   ],
   "source": [
    "# ✅ Display sample\n",
    "df_all[[\"target\", \"prediction\"]].head()"
   ]
  }
 ],
 "metadata": {
  "kernelspec": {
   "display_name": "Python 3 (ipykernel)",
   "language": "python",
   "name": "python3"
  },
  "language_info": {
   "codemirror_mode": {
    "name": "ipython",
    "version": 3
   },
   "file_extension": ".py",
   "mimetype": "text/x-python",
   "name": "python",
   "nbconvert_exporter": "python",
   "pygments_lexer": "ipython3",
   "version": "3.12.8"
  }
 },
 "nbformat": 4,
 "nbformat_minor": 5
}
