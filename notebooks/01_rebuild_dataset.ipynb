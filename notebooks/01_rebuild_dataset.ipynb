{
 "cells": [
  {
   "cell_type": "code",
   "execution_count": 1,
   "id": "36edf937-37d7-4d16-b0b2-05a39929a75c",
   "metadata": {},
   "outputs": [],
   "source": [
    "import pandas as pd\n",
    "from pathlib import Path"
   ]
  },
  {
   "cell_type": "code",
   "execution_count": 2,
   "id": "02856ffc-ea4e-4e9f-8b5d-43a6369ae530",
   "metadata": {},
   "outputs": [],
   "source": [
    "# 📍 Chemins\n",
    "FEATURES_DIR = Path(\"../data/features\")"
   ]
  },
  {
   "cell_type": "code",
   "execution_count": 3,
   "id": "312fa018-99eb-49f8-bf38-1c0a5af55dee",
   "metadata": {},
   "outputs": [
    {
     "name": "stdout",
     "output_type": "stream",
     "text": [
      "Loading EWLD_PA_features.parquet\n",
      "Loading PAEEM_PA_features.parquet\n",
      "Loading ESE_PA_features.parquet\n",
      "Loading CW8_PA_features.parquet\n"
     ]
    }
   ],
   "source": [
    "# 📥 Lire tous les fichiers\n",
    "dfs = []\n",
    "for file in FEATURES_DIR.glob(\"*_features.parquet\"):\n",
    "    print(f\"Loading {file.name}\")\n",
    "    df = pd.read_parquet(file)\n",
    "\n",
    "    # ✅ Nettoyage des colonnes multi-index transformées en str\n",
    "    new_cols = []\n",
    "    for col in df.columns:\n",
    "        if isinstance(col, str):\n",
    "            col_clean = (\n",
    "                col.replace(\"('\", \"\")\n",
    "                .replace(\"', '')\", \"\")\n",
    "                .replace(\"', '\", \"_\")\n",
    "                .replace(\"')\", \"\")\n",
    "            )\n",
    "        else:\n",
    "            col_clean = (\n",
    "                \"_\".join([c for c in col if c]) if isinstance(col, tuple) else col\n",
    "            )\n",
    "        new_cols.append(col_clean)\n",
    "    df.columns = new_cols\n",
    "\n",
    "    # ✅ Ajouter une colonne ticker\n",
    "    ticker = file.stem.replace(\"_features\", \"\")\n",
    "    df[\"ticker\"] = ticker\n",
    "\n",
    "    dfs.append(df)"
   ]
  },
  {
   "cell_type": "code",
   "execution_count": 4,
   "id": "2c056d12-3347-4f61-bc10-d0ffcf9ae6dc",
   "metadata": {},
   "outputs": [],
   "source": [
    "# 🪄 Concaténer tous les DataFrames\n",
    "df_all = pd.concat(dfs, ignore_index=True)"
   ]
  },
  {
   "cell_type": "code",
   "execution_count": 5,
   "id": "86450506-7cd6-4589-a9e3-fef60383f8b5",
   "metadata": {},
   "outputs": [],
   "source": [
    "# 🪄 Concaténer tous les DataFrames\n",
    "df_all = pd.concat(dfs, ignore_index=True)"
   ]
  },
  {
   "cell_type": "code",
   "execution_count": 6,
   "id": "18892a0e-3cff-488d-bae8-b5f843371d70",
   "metadata": {},
   "outputs": [
    {
     "name": "stdout",
     "output_type": "stream",
     "text": [
      "(3802, 32)\n",
      "Index(['Close_EWLD.PA', 'High_EWLD.PA', 'Low_EWLD.PA', 'Open_EWLD.PA',\n",
      "       'Volume_EWLD.PA', 'daily_return', 'weekly_return', 'monthly_return',\n",
      "       'rolling_volatility_21', 'rolling_volatility_63', 'momentum_21',\n",
      "       'momentum_63', 'ma_21', 'ma_63', 'drawdown', 'target', 'ticker',\n",
      "       'Close_PAEEM.PA', 'High_PAEEM.PA', 'Low_PAEEM.PA', 'Open_PAEEM.PA',\n",
      "       'Volume_PAEEM.PA', 'Close_ESE.PA', 'High_ESE.PA', 'Low_ESE.PA',\n",
      "       'Open_ESE.PA', 'Volume_ESE.PA', 'Close_CW8.PA', 'High_CW8.PA',\n",
      "       'Low_CW8.PA', 'Open_CW8.PA', 'Volume_CW8.PA'],\n",
      "      dtype='object')\n",
      "   Close_EWLD.PA  High_EWLD.PA  Low_EWLD.PA  Open_EWLD.PA  Volume_EWLD.PA  \\\n",
      "0      30.896629     30.974160    30.813136     30.949309         21358.0   \n",
      "1      31.057653     31.112322    30.985094     31.061629         17147.0   \n",
      "2      31.092442     31.180906    31.063617     31.151086         17375.0   \n",
      "3      31.236568     31.310122    31.147111     31.213706         17807.0   \n",
      "4      31.117290     31.220664    31.051688     31.156055         15237.0   \n",
      "\n",
      "   daily_return  weekly_return  monthly_return  rolling_volatility_21  \\\n",
      "0      0.000257       0.006802        0.022668               0.004410   \n",
      "1      0.005212       0.013987        0.022314               0.004393   \n",
      "2      0.001120       0.009455        0.025674               0.004331   \n",
      "3      0.004635       0.014429        0.030192               0.004387   \n",
      "4     -0.003819       0.007401        0.025586               0.004533   \n",
      "\n",
      "   rolling_volatility_63  ...  Close_ESE.PA  High_ESE.PA  Low_ESE.PA  \\\n",
      "0               0.006032  ...           NaN          NaN         NaN   \n",
      "1               0.005939  ...           NaN          NaN         NaN   \n",
      "2               0.005933  ...           NaN          NaN         NaN   \n",
      "3               0.005943  ...           NaN          NaN         NaN   \n",
      "4               0.005745  ...           NaN          NaN         NaN   \n",
      "\n",
      "   Open_ESE.PA  Volume_ESE.PA  Close_CW8.PA High_CW8.PA  Low_CW8.PA  \\\n",
      "0          NaN            NaN           NaN         NaN         NaN   \n",
      "1          NaN            NaN           NaN         NaN         NaN   \n",
      "2          NaN            NaN           NaN         NaN         NaN   \n",
      "3          NaN            NaN           NaN         NaN         NaN   \n",
      "4          NaN            NaN           NaN         NaN         NaN   \n",
      "\n",
      "   Open_CW8.PA  Volume_CW8.PA  \n",
      "0          NaN            NaN  \n",
      "1          NaN            NaN  \n",
      "2          NaN            NaN  \n",
      "3          NaN            NaN  \n",
      "4          NaN            NaN  \n",
      "\n",
      "[5 rows x 32 columns]\n"
     ]
    }
   ],
   "source": [
    "# ✅ Vérifications\n",
    "print(df_all.shape)\n",
    "print(df_all.columns)\n",
    "print(df_all.head())"
   ]
  },
  {
   "cell_type": "code",
   "execution_count": 7,
   "id": "dcedc63f-a63c-49bc-a8c6-d3500fbb8f30",
   "metadata": {},
   "outputs": [
    {
     "name": "stdout",
     "output_type": "stream",
     "text": [
      "✅ Target column present\n",
      "Missing values in target: 0\n"
     ]
    }
   ],
   "source": [
    "# ✅ Vérifier que la target est présente et sans NaN\n",
    "if \"target\" not in df_all.columns:\n",
    "    print(\"❌ Target column missing\")\n",
    "else:\n",
    "    print(\"✅ Target column present\")\n",
    "    print(f\"Missing values in target: {df_all['target'].isna().sum()}\")"
   ]
  },
  {
   "cell_type": "code",
   "execution_count": 8,
   "id": "cda98342-d473-49c3-aab1-8a08d3a93258",
   "metadata": {},
   "outputs": [
    {
     "name": "stdout",
     "output_type": "stream",
     "text": [
      "✅ Dataset sauvegardé pour le training.\n"
     ]
    }
   ],
   "source": [
    "# 💾 Sauvegarde pour training\n",
    "df_all.to_parquet(\"../data/df_all.parquet\", index=False)\n",
    "print(\"✅ Dataset sauvegardé pour le training.\")"
   ]
  }
 ],
 "metadata": {
  "kernelspec": {
   "display_name": "Python 3 (ipykernel)",
   "language": "python",
   "name": "python3"
  },
  "language_info": {
   "codemirror_mode": {
    "name": "ipython",
    "version": 3
   },
   "file_extension": ".py",
   "mimetype": "text/x-python",
   "name": "python",
   "nbconvert_exporter": "python",
   "pygments_lexer": "ipython3",
   "version": "3.12.8"
  }
 },
 "nbformat": 4,
 "nbformat_minor": 5
}
