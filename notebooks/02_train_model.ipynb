{
 "cells": [
  {
   "cell_type": "code",
   "execution_count": 19,
   "id": "3da3edc9-6338-4971-80ed-03b2a92d1757",
   "metadata": {},
   "outputs": [],
   "source": [
    "# 02_train_model.ipynb\n",
    "\n",
    "import pandas as pd\n",
    "import numpy as np\n",
    "from pathlib import Path\n",
    "from sklearn.model_selection import train_test_split\n",
    "from sklearn.metrics import root_mean_squared_error, r2_score\n",
    "from lightgbm import LGBMRegressor\n",
    "from lightgbm import early_stopping\n",
    "import mlflow"
   ]
  },
  {
   "cell_type": "code",
   "execution_count": 2,
   "id": "6ef61583-5e0d-4be0-8128-5ed9f79d640b",
   "metadata": {},
   "outputs": [],
   "source": [
    "# 📂 Config\n",
    "DATA_PATH = Path(\"../data/features\")\n",
    "EXPERIMENT_NAME = \"ETF_PEA_MLOpsZoomcamp\""
   ]
  },
  {
   "cell_type": "code",
   "execution_count": 3,
   "id": "9ee8aa43-f473-4c72-a9b7-b86bb4839dc1",
   "metadata": {},
   "outputs": [
    {
     "name": "stdout",
     "output_type": "stream",
     "text": [
      "✅ Shape of df_all: (3802, 32)\n"
     ]
    }
   ],
   "source": [
    "# 🎯 Load dataset\n",
    "all_files = list(DATA_PATH.glob(\"*_features.parquet\"))\n",
    "dfs = []\n",
    "\n",
    "for file in all_files:\n",
    "    df = pd.read_parquet(file)\n",
    "    df[\"ticker\"] = file.stem.split(\"_\")[0]\n",
    "    dfs.append(df)\n",
    "\n",
    "df_all = pd.concat(dfs, ignore_index=True)\n",
    "print(f\"✅ Shape of df_all: {df_all.shape}\")"
   ]
  },
  {
   "cell_type": "code",
   "execution_count": 4,
   "id": "e9f247f0-5794-42bc-9a11-e31d2825360f",
   "metadata": {},
   "outputs": [
    {
     "name": "stdout",
     "output_type": "stream",
     "text": [
      "[\"('Close', 'EWLD.PA')\", \"('High', 'EWLD.PA')\", \"('Low', 'EWLD.PA')\", \"('Open', 'EWLD.PA')\", \"('Volume', 'EWLD.PA')\", \"('daily_return', '')\", \"('weekly_return', '')\", \"('monthly_return', '')\", \"('rolling_volatility_21', '')\", \"('rolling_volatility_63', '')\", \"('momentum_21', '')\", \"('momentum_63', '')\", \"('ma_21', '')\", \"('ma_63', '')\", \"('drawdown', '')\", \"('target', '')\", 'ticker', \"('Close', 'PAEEM.PA')\", \"('High', 'PAEEM.PA')\", \"('Low', 'PAEEM.PA')\", \"('Open', 'PAEEM.PA')\", \"('Volume', 'PAEEM.PA')\", \"('Close', 'ESE.PA')\", \"('High', 'ESE.PA')\", \"('Low', 'ESE.PA')\", \"('Open', 'ESE.PA')\", \"('Volume', 'ESE.PA')\", \"('Close', 'CW8.PA')\", \"('High', 'CW8.PA')\", \"('Low', 'CW8.PA')\", \"('Open', 'CW8.PA')\", \"('Volume', 'CW8.PA')\"]\n"
     ]
    }
   ],
   "source": [
    "# 🩺 Vérifier les colonnes\n",
    "print(df_all.columns.tolist())"
   ]
  },
  {
   "cell_type": "code",
   "execution_count": 5,
   "id": "3e2353f7-4626-4671-84cf-3ddad7ef5df0",
   "metadata": {},
   "outputs": [
    {
     "name": "stdout",
     "output_type": "stream",
     "text": [
      "✅ Detected target column: ('target', '')\n"
     ]
    }
   ],
   "source": [
    "# 🩺 Trouver la colonne target proprement\n",
    "target_col = next(c for c in df_all.columns if \"target\" in c)\n",
    "print(f\"✅ Detected target column: {target_col}\")"
   ]
  },
  {
   "cell_type": "code",
   "execution_count": 6,
   "id": "5ac7f91c-8e3e-427e-87c6-454200b4911d",
   "metadata": {},
   "outputs": [],
   "source": [
    "# 🔄 Renommer pour simplifier\n",
    "df_all = df_all.rename(columns={target_col: \"target\"})"
   ]
  },
  {
   "cell_type": "code",
   "execution_count": 15,
   "id": "423324c7-a978-40e4-94bd-836bf15aea2f",
   "metadata": {},
   "outputs": [],
   "source": [
    "# ✅ Features et Target\n",
    "df_all.columns = [col.replace(\"(\", \"\")\n",
    "                      .replace(\")\", \"\")\n",
    "                      .replace(\"'\", \"\")\n",
    "                      .replace(\",\", \"\")\n",
    "                      .replace(\" \", \"_\")\n",
    "                  for col in df_all.columns]\n",
    "\n",
    "feature_cols = [col for col in df_all.columns if \"target\" not in col and \"ticker\" not in col]\n",
    "\n",
    "X = df_all[feature_cols]\n",
    "y = df_all[\"target\"]"
   ]
  },
  {
   "cell_type": "code",
   "execution_count": 16,
   "id": "70806404-9b49-41ff-a787-7028ed93755e",
   "metadata": {},
   "outputs": [],
   "source": [
    "# ⚖️ Split\n",
    "X_train, X_test, y_train, y_test = train_test_split(\n",
    "    X, y, test_size=0.2, random_state=42\n",
    ")"
   ]
  },
  {
   "cell_type": "code",
   "execution_count": 17,
   "id": "cd8498fe-9191-4512-878b-3437cfb6d98e",
   "metadata": {},
   "outputs": [
    {
     "data": {
      "text/plain": [
       "<Experiment: artifact_location='file:G:/Mon Drive/DataTalksClub/MLOps-ETF-PEA/notebooks/mlruns/1', creation_time=1752591127892, experiment_id='1', last_update_time=1752591127892, lifecycle_stage='active', name='ETF_PEA_MLOpsZoomcamp', tags={}>"
      ]
     },
     "execution_count": 17,
     "metadata": {},
     "output_type": "execute_result"
    }
   ],
   "source": [
    "# 📊 Setup MLflow\n",
    "mlflow.set_tracking_uri(\"sqlite:///mlflow.db\")\n",
    "mlflow.set_experiment(EXPERIMENT_NAME)"
   ]
  },
  {
   "cell_type": "code",
   "execution_count": 20,
   "id": "b0fe8f37-b38f-4432-b2d1-9a831db43e5c",
   "metadata": {},
   "outputs": [
    {
     "name": "stdout",
     "output_type": "stream",
     "text": [
      "[LightGBM] [Info] Auto-choosing col-wise multi-threading, the overhead of testing was 0.000317 seconds.\n",
      "You can set `force_col_wise=true` to remove the overhead.\n",
      "[LightGBM] [Info] Total Bins 6689\n",
      "[LightGBM] [Info] Number of data points in the train set: 3041, number of used features: 30\n",
      "[LightGBM] [Info] Start training from score 0.012837\n",
      "Training until validation scores don't improve for 10 rounds\n",
      "Did not meet early stopping. Best iteration is:\n",
      "[100]\ttraining's l2: 0.000253814\tvalid_1's l2: 0.00047819\n"
     ]
    },
    {
     "name": "stderr",
     "output_type": "stream",
     "text": [
      "2025/07/15 17:14:11 WARNING mlflow.models.model: `artifact_path` is deprecated. Please use `name` instead.\n",
      "2025/07/15 17:14:17 WARNING mlflow.models.model: Model logged without a signature and input example. Please set `input_example` parameter when logging the model to auto infer the model signature.\n"
     ]
    },
    {
     "name": "stdout",
     "output_type": "stream",
     "text": [
      "✅ Training completed with RMSE: 0.02187, R²: 0.81265\n"
     ]
    }
   ],
   "source": [
    "# 🎛️ Training\n",
    "params = {\n",
    "    \"learning_rate\": 0.05,\n",
    "    \"num_leaves\": 31,\n",
    "    \"random_state\": 42\n",
    "}\n",
    "\n",
    "with mlflow.start_run():\n",
    "    mlflow.log_params(params)\n",
    "\n",
    "    model = LGBMRegressor(**params, n_estimators=100)\n",
    "    model.fit(\n",
    "        X_train, y_train,\n",
    "        eval_set=[(X_train, y_train), (X_test, y_test)],\n",
    "        callbacks=[early_stopping(stopping_rounds=10)],\n",
    "    )\n",
    "\n",
    "    y_pred = model.predict(X_test)\n",
    "    rmse = root_mean_squared_error(y_test, y_pred)\n",
    "    r2 = r2_score(y_test, y_pred)\n",
    "\n",
    "    mlflow.log_metric(\"rmse\", rmse)\n",
    "    mlflow.log_metric(\"r2\", r2)\n",
    "\n",
    "    mlflow.sklearn.log_model(model, \"model\")\n",
    "\n",
    "print(f\"✅ Training completed with RMSE: {rmse:.5f}, R²: {r2:.5f}\")"
   ]
  },
  {
   "cell_type": "code",
   "execution_count": null,
   "id": "55d03d7f-dc7c-488d-ae92-2c302d2806bb",
   "metadata": {},
   "outputs": [],
   "source": []
  }
 ],
 "metadata": {
  "kernelspec": {
   "display_name": "Python 3 (ipykernel)",
   "language": "python",
   "name": "python3"
  },
  "language_info": {
   "codemirror_mode": {
    "name": "ipython",
    "version": 3
   },
   "file_extension": ".py",
   "mimetype": "text/x-python",
   "name": "python",
   "nbconvert_exporter": "python",
   "pygments_lexer": "ipython3",
   "version": "3.12.8"
  }
 },
 "nbformat": 4,
 "nbformat_minor": 5
}
