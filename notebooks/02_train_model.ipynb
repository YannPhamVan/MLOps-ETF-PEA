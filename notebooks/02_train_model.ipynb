{
 "cells": [
  {
   "cell_type": "code",
   "execution_count": 1,
   "id": "3da3edc9-6338-4971-80ed-03b2a92d1757",
   "metadata": {},
   "outputs": [],
   "source": [
    "# 02_train_model.ipynb\n",
    "\n",
    "# 📌 1️⃣ Imports et config\n",
    "import pandas as pd\n",
    "from pathlib import Path\n",
    "\n",
    "from lightgbm import LGBMRegressor, early_stopping\n",
    "from sklearn.model_selection import train_test_split\n",
    "from sklearn.metrics import root_mean_squared_error, r2_score\n",
    "\n",
    "import mlflow\n",
    "from mlflow import MlflowClient\n",
    "from mlflow.exceptions import MlflowException"
   ]
  },
  {
   "cell_type": "code",
   "execution_count": 2,
   "id": "6ef61583-5e0d-4be0-8128-5ed9f79d640b",
   "metadata": {},
   "outputs": [
    {
     "name": "stderr",
     "output_type": "stream",
     "text": [
      "2025/07/15 19:51:24 INFO mlflow.tracking.fluent: Experiment with name 'ETF_PEA_MLOpsZoomcamp' does not exist. Creating a new experiment.\n"
     ]
    },
    {
     "data": {
      "text/plain": [
       "<Experiment: artifact_location='file:///G:/Mon Drive/DataTalksClub/MLOps-ETF-PEA/mlruns/516699187525708869', creation_time=1752601884705, experiment_id='516699187525708869', last_update_time=1752601884705, lifecycle_stage='active', name='ETF_PEA_MLOpsZoomcamp', tags={}>"
      ]
     },
     "execution_count": 2,
     "metadata": {},
     "output_type": "execute_result"
    }
   ],
   "source": [
    "# 📌 2️⃣ Paramètres\n",
    "EXPERIMENT_NAME = \"ETF_PEA_MLOpsZoomcamp\"\n",
    "mlflow.set_tracking_uri(\"file:///G:/Mon Drive/DataTalksClub/MLOps-ETF-PEA/mlruns\")\n",
    "mlflow.set_experiment(EXPERIMENT_NAME)"
   ]
  },
  {
   "cell_type": "code",
   "execution_count": 3,
   "id": "9ee8aa43-f473-4c72-a9b7-b86bb4839dc1",
   "metadata": {},
   "outputs": [
    {
     "name": "stdout",
     "output_type": "stream",
     "text": [
      "✅ Data shape: (3802, 32)\n"
     ]
    }
   ],
   "source": [
    "# 📌 3️⃣ Chargement des données\n",
    "df = pd.read_parquet(\"../data/df_all.parquet\")\n",
    "print(f\"✅ Data shape: {df.shape}\")\n",
    "\n",
    "feature_cols = [col for col in df.columns if col not in [\"target\", \"ticker\"]]\n",
    "X = df[feature_cols]\n",
    "y = df[\"target\"]\n",
    "\n",
    "X_train, X_test, y_train, y_test = train_test_split(\n",
    "    X, y, test_size=0.2, random_state=42\n",
    ")"
   ]
  },
  {
   "cell_type": "code",
   "execution_count": 4,
   "id": "e9f247f0-5794-42bc-9a11-e31d2825360f",
   "metadata": {},
   "outputs": [
    {
     "name": "stdout",
     "output_type": "stream",
     "text": [
      "✅ Registered model 'ETF_PEA_MLOpsZoomcamp' created.\n"
     ]
    }
   ],
   "source": [
    "# 📌 4️⃣ Gestion du Registered Model\n",
    "client = MlflowClient()\n",
    "try:\n",
    "    client.create_registered_model(EXPERIMENT_NAME)\n",
    "    print(f\"✅ Registered model '{EXPERIMENT_NAME}' created.\")\n",
    "except MlflowException as e:\n",
    "    if \"already exists\" in str(e):\n",
    "        print(f\"✅ Registered model '{EXPERIMENT_NAME}' already exists, continuing.\")\n",
    "    else:\n",
    "        raise e"
   ]
  },
  {
   "cell_type": "code",
   "execution_count": 5,
   "id": "55d03d7f-dc7c-488d-ae92-2c302d2806bb",
   "metadata": {},
   "outputs": [
    {
     "name": "stdout",
     "output_type": "stream",
     "text": [
      "[LightGBM] [Info] Auto-choosing col-wise multi-threading, the overhead of testing was 0.000361 seconds.\n",
      "You can set `force_col_wise=true` to remove the overhead.\n",
      "[LightGBM] [Info] Total Bins 6689\n",
      "[LightGBM] [Info] Number of data points in the train set: 3041, number of used features: 30\n",
      "[LightGBM] [Info] Start training from score 0.012837\n",
      "Training until validation scores don't improve for 10 rounds\n",
      "Did not meet early stopping. Best iteration is:\n",
      "[100]\ttraining's l2: 0.000988161\tvalid_1's l2: 0.00116558\n"
     ]
    },
    {
     "name": "stderr",
     "output_type": "stream",
     "text": [
      "2025/07/15 19:53:14 WARNING mlflow.models.model: `artifact_path` is deprecated. Please use `name` instead.\n"
     ]
    },
    {
     "name": "stdout",
     "output_type": "stream",
     "text": [
      "✅ Training completed with RMSE: 0.03414, R²: 0.54333\n",
      "✅ Model logged and registered under 'ETF_PEA_MLOpsZoomcamp'\n"
     ]
    },
    {
     "name": "stderr",
     "output_type": "stream",
     "text": [
      "Registered model 'ETF_PEA_MLOpsZoomcamp' already exists. Creating a new version of this model...\n",
      "Created version '1' of model 'ETF_PEA_MLOpsZoomcamp'.\n"
     ]
    }
   ],
   "source": [
    "# 📌 5️⃣ Tracking et training\n",
    "params = {\n",
    "    \"learning_rate\": 0.01,\n",
    "    \"num_leaves\": 31,\n",
    "    \"max_depth\": -1,\n",
    "    \"random_state\": 42,\n",
    "}\n",
    "\n",
    "with mlflow.start_run() as run:\n",
    "    mlflow.log_params(params)\n",
    "\n",
    "    model = LGBMRegressor(**params, n_estimators=100)\n",
    "\n",
    "    model.fit(\n",
    "        X_train,\n",
    "        y_train,\n",
    "        eval_set=[(X_train, y_train), (X_test, y_test)],\n",
    "        callbacks=[early_stopping(stopping_rounds=10)],\n",
    "    )\n",
    "\n",
    "    y_pred = model.predict(X_test)\n",
    "    rmse = root_mean_squared_error(y_test, y_pred)\n",
    "    r2 = r2_score(y_test, y_pred)\n",
    "\n",
    "    mlflow.log_metric(\"rmse\", rmse)\n",
    "    mlflow.log_metric(\"r2\", r2)\n",
    "\n",
    "    print(f\"✅ Training completed with RMSE: {rmse:.5f}, R²: {r2:.5f}\")\n",
    "\n",
    "    # Log du modèle\n",
    "    mlflow.sklearn.log_model(\n",
    "        sk_model=model,\n",
    "        artifact_path=\"model\",\n",
    "        registered_model_name=EXPERIMENT_NAME,\n",
    "        input_example=X_test.iloc[:5],\n",
    "    )\n",
    "\n",
    "    print(f\"✅ Model logged and registered under '{EXPERIMENT_NAME}'\")"
   ]
  }
 ],
 "metadata": {
  "kernelspec": {
   "display_name": "Python 3 (ipykernel)",
   "language": "python",
   "name": "python3"
  },
  "language_info": {
   "codemirror_mode": {
    "name": "ipython",
    "version": 3
   },
   "file_extension": ".py",
   "mimetype": "text/x-python",
   "name": "python",
   "nbconvert_exporter": "python",
   "pygments_lexer": "ipython3",
   "version": "3.12.8"
  }
 },
 "nbformat": 4,
 "nbformat_minor": 5
}
