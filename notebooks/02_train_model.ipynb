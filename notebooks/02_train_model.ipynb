{
 "cells": [
  {
   "cell_type": "code",
   "execution_count": 1,
   "id": "3da3edc9-6338-4971-80ed-03b2a92d1757",
   "metadata": {},
   "outputs": [],
   "source": [
    "# 02_train_model.ipynb\n",
    "\n",
    "import pandas as pd\n",
    "import numpy as np\n",
    "from pathlib import Path\n",
    "from sklearn.model_selection import train_test_split\n",
    "from sklearn.metrics import root_mean_squared_error, r2_score\n",
    "from lightgbm import LGBMRegressor\n",
    "from lightgbm import early_stopping\n",
    "import mlflow\n",
    "from mlflow.tracking import MlflowClient"
   ]
  },
  {
   "cell_type": "code",
   "execution_count": 2,
   "id": "6ef61583-5e0d-4be0-8128-5ed9f79d640b",
   "metadata": {},
   "outputs": [],
   "source": [
    "# 📂 Config\n",
    "DATA_PATH = Path(\"../data/features\")\n",
    "EXPERIMENT_NAME = \"ETF_PEA_MLOpsZoomcamp\""
   ]
  },
  {
   "cell_type": "code",
   "execution_count": 3,
   "id": "9ee8aa43-f473-4c72-a9b7-b86bb4839dc1",
   "metadata": {},
   "outputs": [
    {
     "name": "stdout",
     "output_type": "stream",
     "text": [
      "✅ Shape of df_all: (3802, 32)\n"
     ]
    }
   ],
   "source": [
    "# 🎯 Load dataset\n",
    "all_files = list(DATA_PATH.glob(\"*_features.parquet\"))\n",
    "dfs = []\n",
    "\n",
    "for file in all_files:\n",
    "    df = pd.read_parquet(file)\n",
    "    df[\"ticker\"] = file.stem.split(\"_\")[0]\n",
    "    dfs.append(df)\n",
    "\n",
    "df_all = pd.concat(dfs, ignore_index=True)\n",
    "print(f\"✅ Shape of df_all: {df_all.shape}\")"
   ]
  },
  {
   "cell_type": "code",
   "execution_count": 4,
   "id": "e9f247f0-5794-42bc-9a11-e31d2825360f",
   "metadata": {},
   "outputs": [
    {
     "name": "stdout",
     "output_type": "stream",
     "text": [
      "[\"('Close', 'EWLD.PA')\", \"('High', 'EWLD.PA')\", \"('Low', 'EWLD.PA')\", \"('Open', 'EWLD.PA')\", \"('Volume', 'EWLD.PA')\", \"('daily_return', '')\", \"('weekly_return', '')\", \"('monthly_return', '')\", \"('rolling_volatility_21', '')\", \"('rolling_volatility_63', '')\", \"('momentum_21', '')\", \"('momentum_63', '')\", \"('ma_21', '')\", \"('ma_63', '')\", \"('drawdown', '')\", \"('target', '')\", 'ticker', \"('Close', 'PAEEM.PA')\", \"('High', 'PAEEM.PA')\", \"('Low', 'PAEEM.PA')\", \"('Open', 'PAEEM.PA')\", \"('Volume', 'PAEEM.PA')\", \"('Close', 'ESE.PA')\", \"('High', 'ESE.PA')\", \"('Low', 'ESE.PA')\", \"('Open', 'ESE.PA')\", \"('Volume', 'ESE.PA')\", \"('Close', 'CW8.PA')\", \"('High', 'CW8.PA')\", \"('Low', 'CW8.PA')\", \"('Open', 'CW8.PA')\", \"('Volume', 'CW8.PA')\"]\n"
     ]
    }
   ],
   "source": [
    "# 🩺 Vérifier les colonnes\n",
    "print(df_all.columns.tolist())"
   ]
  },
  {
   "cell_type": "code",
   "execution_count": 5,
   "id": "3e2353f7-4626-4671-84cf-3ddad7ef5df0",
   "metadata": {},
   "outputs": [
    {
     "name": "stdout",
     "output_type": "stream",
     "text": [
      "✅ Detected target column: ('target', '')\n"
     ]
    }
   ],
   "source": [
    "# 🩺 Trouver la colonne target proprement\n",
    "target_col = next(c for c in df_all.columns if \"target\" in c)\n",
    "print(f\"✅ Detected target column: {target_col}\")"
   ]
  },
  {
   "cell_type": "code",
   "execution_count": 6,
   "id": "5ac7f91c-8e3e-427e-87c6-454200b4911d",
   "metadata": {},
   "outputs": [],
   "source": [
    "# 🔄 Renommer pour simplifier\n",
    "df_all = df_all.rename(columns={target_col: \"target\"})"
   ]
  },
  {
   "cell_type": "code",
   "execution_count": 7,
   "id": "423324c7-a978-40e4-94bd-836bf15aea2f",
   "metadata": {},
   "outputs": [],
   "source": [
    "# ✅ Features et Target\n",
    "df_all.columns = [col.replace(\"(\", \"\")\n",
    "                      .replace(\")\", \"\")\n",
    "                      .replace(\"'\", \"\")\n",
    "                      .replace(\",\", \"\")\n",
    "                      .replace(\" \", \"_\")\n",
    "                  for col in df_all.columns]\n",
    "\n",
    "feature_cols = [col for col in df_all.columns if \"target\" not in col and \"ticker\" not in col]\n",
    "\n",
    "X = df_all[feature_cols]\n",
    "y = df_all[\"target\"]"
   ]
  },
  {
   "cell_type": "code",
   "execution_count": 8,
   "id": "70806404-9b49-41ff-a787-7028ed93755e",
   "metadata": {},
   "outputs": [],
   "source": [
    "# ⚖️ Split\n",
    "X_train, X_test, y_train, y_test = train_test_split(\n",
    "    X, y, test_size=0.2, random_state=42\n",
    ")"
   ]
  },
  {
   "cell_type": "code",
   "execution_count": 9,
   "id": "cd8498fe-9191-4512-878b-3437cfb6d98e",
   "metadata": {},
   "outputs": [
    {
     "data": {
      "text/plain": [
       "<Experiment: artifact_location='file:///G:/Mon Drive/DataTalksClub/MLOps-ETF-PEA/mlruns/279597552178412770', creation_time=1752599610693, experiment_id='279597552178412770', last_update_time=1752599610693, lifecycle_stage='active', name='ETF_PEA_MLOpsZoomcamp', tags={}>"
      ]
     },
     "execution_count": 9,
     "metadata": {},
     "output_type": "execute_result"
    }
   ],
   "source": [
    "# 📊 Setup MLflow\n",
    "mlflow.set_tracking_uri(\"file:///G:/Mon Drive/DataTalksClub/MLOps-ETF-PEA/mlruns\")\n",
    "mlflow.set_experiment(EXPERIMENT_NAME)"
   ]
  },
  {
   "cell_type": "code",
   "execution_count": 10,
   "id": "b0fe8f37-b38f-4432-b2d1-9a831db43e5c",
   "metadata": {},
   "outputs": [
    {
     "name": "stdout",
     "output_type": "stream",
     "text": [
      "ℹ️ Registered Model (name=ETF_PEA_MLOpsZoomcamp) already exists.\n",
      "✅ Registered model 'ETF_PEA_MLOpsZoomcamp' already exists, continuing.\n",
      "[LightGBM] [Info] Auto-choosing col-wise multi-threading, the overhead of testing was 0.000326 seconds.\n",
      "You can set `force_col_wise=true` to remove the overhead.\n",
      "[LightGBM] [Info] Total Bins 6689\n",
      "[LightGBM] [Info] Number of data points in the train set: 3041, number of used features: 30\n",
      "[LightGBM] [Info] Start training from score 0.012837\n",
      "Training until validation scores don't improve for 10 rounds\n",
      "Did not meet early stopping. Best iteration is:\n",
      "[100]\ttraining's l2: 0.000253814\tvalid_1's l2: 0.00047819\n"
     ]
    },
    {
     "name": "stderr",
     "output_type": "stream",
     "text": [
      "2025/07/15 19:36:08 WARNING mlflow.models.model: `artifact_path` is deprecated. Please use `name` instead.\n",
      "2025/07/15 19:36:13 WARNING mlflow.models.model: Model logged without a signature and input example. Please set `input_example` parameter when logging the model to auto infer the model signature.\n",
      "Registered model 'ETF_PEA_MLOpsZoomcamp' already exists. Creating a new version of this model...\n",
      "Created version '4' of model 'ETF_PEA_MLOpsZoomcamp'.\n"
     ]
    },
    {
     "ename": "MlflowException",
     "evalue": "Registered Model (name=ETF_PEA_MLOpsZoomcamp) already exists.",
     "output_type": "error",
     "traceback": [
      "\u001b[31m---------------------------------------------------------------------------\u001b[39m",
      "\u001b[31mMlflowException\u001b[39m                           Traceback (most recent call last)",
      "\u001b[36mFile \u001b[39m\u001b[32m~\\.virtualenvs\\MLOps-ETF-PEA-I1okvr6E\\Lib\\site-packages\\mlflow\\store\\model_registry\\file_store.py:205\u001b[39m, in \u001b[36mFileStore.create_registered_model\u001b[39m\u001b[34m(self, name, tags, description, deployment_job_id)\u001b[39m\n\u001b[32m    204\u001b[39m \u001b[38;5;28;01mtry\u001b[39;00m:\n\u001b[32m--> \u001b[39m\u001b[32m205\u001b[39m     \u001b[38;5;28;43mself\u001b[39;49m\u001b[43m.\u001b[49m\u001b[43m_validate_registered_model_does_not_exist\u001b[49m\u001b[43m(\u001b[49m\u001b[43mname\u001b[49m\u001b[43m)\u001b[49m\n\u001b[32m    206\u001b[39m \u001b[38;5;28;01mexcept\u001b[39;00m MlflowException \u001b[38;5;28;01mas\u001b[39;00m e:\n",
      "\u001b[36mFile \u001b[39m\u001b[32m~\\.virtualenvs\\MLOps-ETF-PEA-I1okvr6E\\Lib\\site-packages\\mlflow\\store\\model_registry\\file_store.py:155\u001b[39m, in \u001b[36mFileStore._validate_registered_model_does_not_exist\u001b[39m\u001b[34m(self, name)\u001b[39m\n\u001b[32m    154\u001b[39m \u001b[38;5;28;01mif\u001b[39;00m exists(model_path):\n\u001b[32m--> \u001b[39m\u001b[32m155\u001b[39m     \u001b[38;5;28;01mraise\u001b[39;00m MlflowException(\n\u001b[32m    156\u001b[39m         \u001b[33mf\u001b[39m\u001b[33m\"\u001b[39m\u001b[33mRegistered Model (name=\u001b[39m\u001b[38;5;132;01m{\u001b[39;00mname\u001b[38;5;132;01m}\u001b[39;00m\u001b[33m) already exists.\u001b[39m\u001b[33m\"\u001b[39m,\n\u001b[32m    157\u001b[39m         RESOURCE_ALREADY_EXISTS,\n\u001b[32m    158\u001b[39m     )\n",
      "\u001b[31mMlflowException\u001b[39m: Registered Model (name=ETF_PEA_MLOpsZoomcamp) already exists.",
      "\nDuring handling of the above exception, another exception occurred:\n",
      "\u001b[31mMlflowException\u001b[39m                           Traceback (most recent call last)",
      "\u001b[36mCell\u001b[39m\u001b[36m \u001b[39m\u001b[32mIn[10]\u001b[39m\u001b[32m, line 38\u001b[39m\n\u001b[32m     35\u001b[39m client = MlflowClient()\n\u001b[32m     36\u001b[39m run_id = mlflow.active_run().info.run_id\n\u001b[32m---> \u001b[39m\u001b[32m38\u001b[39m result = \u001b[43mclient\u001b[49m\u001b[43m.\u001b[49m\u001b[43mcreate_registered_model\u001b[49m\u001b[43m(\u001b[49m\u001b[43mEXPERIMENT_NAME\u001b[49m\u001b[43m)\u001b[49m\n\u001b[32m     39\u001b[39m model_version = client.create_model_version(\n\u001b[32m     40\u001b[39m     name=EXPERIMENT_NAME,\n\u001b[32m     41\u001b[39m     source=\u001b[33mf\u001b[39m\u001b[33m\"\u001b[39m\u001b[38;5;132;01m{\u001b[39;00mmlflow.get_artifact_uri()\u001b[38;5;132;01m}\u001b[39;00m\u001b[33m/model\u001b[39m\u001b[33m\"\u001b[39m,\n\u001b[32m     42\u001b[39m     run_id=run.info.run_id\n\u001b[32m     43\u001b[39m )\n\u001b[32m     44\u001b[39m \u001b[38;5;28mprint\u001b[39m(\u001b[33mf\u001b[39m\u001b[33m\"\u001b[39m\u001b[33m✅ Model version created: \u001b[39m\u001b[38;5;132;01m{\u001b[39;00mmodel_version.version\u001b[38;5;132;01m}\u001b[39;00m\u001b[33m\"\u001b[39m)\n",
      "\u001b[36mFile \u001b[39m\u001b[32m~\\.virtualenvs\\MLOps-ETF-PEA-I1okvr6E\\Lib\\site-packages\\mlflow\\tracking\\client.py:3645\u001b[39m, in \u001b[36mMlflowClient.create_registered_model\u001b[39m\u001b[34m(self, name, tags, description, deployment_job_id)\u001b[39m\n\u001b[32m   3642\u001b[39m \u001b[38;5;28;01mif\u001b[39;00m has_prompt_tag(tags):\n\u001b[32m   3643\u001b[39m     \u001b[38;5;28;01mraise\u001b[39;00m MlflowException.invalid_parameter_value(\u001b[33m\"\u001b[39m\u001b[33mPrompts cannot be registered as models.\u001b[39m\u001b[33m\"\u001b[39m)\n\u001b[32m-> \u001b[39m\u001b[32m3645\u001b[39m \u001b[38;5;28;01mreturn\u001b[39;00m \u001b[38;5;28;43mself\u001b[39;49m\u001b[43m.\u001b[49m\u001b[43m_get_registry_client\u001b[49m\u001b[43m(\u001b[49m\u001b[43m)\u001b[49m\u001b[43m.\u001b[49m\u001b[43mcreate_registered_model\u001b[49m\u001b[43m(\u001b[49m\n\u001b[32m   3646\u001b[39m \u001b[43m    \u001b[49m\u001b[43mname\u001b[49m\u001b[43m,\u001b[49m\u001b[43m \u001b[49m\u001b[43mtags\u001b[49m\u001b[43m,\u001b[49m\u001b[43m \u001b[49m\u001b[43mdescription\u001b[49m\u001b[43m,\u001b[49m\u001b[43m \u001b[49m\u001b[43mdeployment_job_id\u001b[49m\n\u001b[32m   3647\u001b[39m \u001b[43m\u001b[49m\u001b[43m)\u001b[49m\n",
      "\u001b[36mFile \u001b[39m\u001b[32m~\\.virtualenvs\\MLOps-ETF-PEA-I1okvr6E\\Lib\\site-packages\\mlflow\\tracking\\_model_registry\\client.py:77\u001b[39m, in \u001b[36mModelRegistryClient.create_registered_model\u001b[39m\u001b[34m(self, name, tags, description, deployment_job_id)\u001b[39m\n\u001b[32m     75\u001b[39m tags = tags \u001b[38;5;28;01mif\u001b[39;00m tags \u001b[38;5;28;01melse\u001b[39;00m {}\n\u001b[32m     76\u001b[39m tags = [RegisteredModelTag(key, \u001b[38;5;28mstr\u001b[39m(value)) \u001b[38;5;28;01mfor\u001b[39;00m key, value \u001b[38;5;129;01min\u001b[39;00m tags.items()]\n\u001b[32m---> \u001b[39m\u001b[32m77\u001b[39m \u001b[38;5;28;01mreturn\u001b[39;00m \u001b[38;5;28;43mself\u001b[39;49m\u001b[43m.\u001b[49m\u001b[43mstore\u001b[49m\u001b[43m.\u001b[49m\u001b[43mcreate_registered_model\u001b[49m\u001b[43m(\u001b[49m\u001b[43mname\u001b[49m\u001b[43m,\u001b[49m\u001b[43m \u001b[49m\u001b[43mtags\u001b[49m\u001b[43m,\u001b[49m\u001b[43m \u001b[49m\u001b[43mdescription\u001b[49m\u001b[43m,\u001b[49m\u001b[43m \u001b[49m\u001b[43mdeployment_job_id\u001b[49m\u001b[43m)\u001b[49m\n",
      "\u001b[36mFile \u001b[39m\u001b[32m~\\.virtualenvs\\MLOps-ETF-PEA-I1okvr6E\\Lib\\site-packages\\mlflow\\store\\model_registry\\file_store.py:209\u001b[39m, in \u001b[36mFileStore.create_registered_model\u001b[39m\u001b[34m(self, name, tags, description, deployment_job_id)\u001b[39m\n\u001b[32m    207\u001b[39m \u001b[38;5;28;01mif\u001b[39;00m e.error_code == ErrorCode.Name(RESOURCE_ALREADY_EXISTS):\n\u001b[32m    208\u001b[39m     existing_model = \u001b[38;5;28mself\u001b[39m.get_registered_model(name)\n\u001b[32m--> \u001b[39m\u001b[32m209\u001b[39m     \u001b[43mhandle_resource_already_exist_error\u001b[49m\u001b[43m(\u001b[49m\n\u001b[32m    210\u001b[39m \u001b[43m        \u001b[49m\u001b[43mname\u001b[49m\u001b[43m,\u001b[49m\u001b[43m \u001b[49m\u001b[43mhas_prompt_tag\u001b[49m\u001b[43m(\u001b[49m\u001b[43mexisting_model\u001b[49m\u001b[43m.\u001b[49m\u001b[43m_tags\u001b[49m\u001b[43m)\u001b[49m\u001b[43m,\u001b[49m\u001b[43m \u001b[49m\u001b[43mhas_prompt_tag\u001b[49m\u001b[43m(\u001b[49m\u001b[43mtags\u001b[49m\u001b[43m)\u001b[49m\n\u001b[32m    211\u001b[39m \u001b[43m    \u001b[49m\u001b[43m)\u001b[49m\n\u001b[32m    212\u001b[39m \u001b[38;5;28;01melse\u001b[39;00m:\n\u001b[32m    213\u001b[39m     \u001b[38;5;28;01mraise\u001b[39;00m\n",
      "\u001b[36mFile \u001b[39m\u001b[32m~\\.virtualenvs\\MLOps-ETF-PEA-I1okvr6E\\Lib\\site-packages\\mlflow\\prompt\\registry_utils.py:200\u001b[39m, in \u001b[36mhandle_resource_already_exist_error\u001b[39m\u001b[34m(name, is_existing_entity_prompt, is_new_entity_prompt)\u001b[39m\n\u001b[32m    192\u001b[39m \u001b[38;5;28;01mif\u001b[39;00m old_entity != new_entity:\n\u001b[32m    193\u001b[39m     \u001b[38;5;28;01mraise\u001b[39;00m MlflowException(\n\u001b[32m    194\u001b[39m         \u001b[33mf\u001b[39m\u001b[33m\"\u001b[39m\u001b[33mTried to create a \u001b[39m\u001b[38;5;132;01m{\u001b[39;00mnew_entity.lower()\u001b[38;5;132;01m}\u001b[39;00m\u001b[33m with name \u001b[39m\u001b[38;5;132;01m{\u001b[39;00mname\u001b[38;5;132;01m!r}\u001b[39;00m\u001b[33m, but the name is \u001b[39m\u001b[33m\"\u001b[39m\n\u001b[32m    195\u001b[39m         \u001b[33mf\u001b[39m\u001b[33m\"\u001b[39m\u001b[33malready taken by a \u001b[39m\u001b[38;5;132;01m{\u001b[39;00mold_entity.lower()\u001b[38;5;132;01m}\u001b[39;00m\u001b[33m. MLflow does not allow creating a \u001b[39m\u001b[33m\"\u001b[39m\n\u001b[32m    196\u001b[39m         \u001b[33m\"\u001b[39m\u001b[33mmodel and a prompt with the same name.\u001b[39m\u001b[33m\"\u001b[39m,\n\u001b[32m    197\u001b[39m         RESOURCE_ALREADY_EXISTS,\n\u001b[32m    198\u001b[39m     )\n\u001b[32m--> \u001b[39m\u001b[32m200\u001b[39m \u001b[38;5;28;01mraise\u001b[39;00m MlflowException(\n\u001b[32m    201\u001b[39m     \u001b[33mf\u001b[39m\u001b[33m\"\u001b[39m\u001b[38;5;132;01m{\u001b[39;00mnew_entity\u001b[38;5;132;01m}\u001b[39;00m\u001b[33m (name=\u001b[39m\u001b[38;5;132;01m{\u001b[39;00mname\u001b[38;5;132;01m}\u001b[39;00m\u001b[33m) already exists.\u001b[39m\u001b[33m\"\u001b[39m,\n\u001b[32m    202\u001b[39m     RESOURCE_ALREADY_EXISTS,\n\u001b[32m    203\u001b[39m )\n",
      "\u001b[31mMlflowException\u001b[39m: Registered Model (name=ETF_PEA_MLOpsZoomcamp) already exists."
     ]
    }
   ],
   "source": [
    "# 🎛️ Training\n",
    "params = {\n",
    "    \"learning_rate\": 0.05,\n",
    "    \"num_leaves\": 31,\n",
    "    \"random_state\": 42\n",
    "}\n",
    "\n",
    "client = MlflowClient()\n",
    "try:\n",
    "    client.create_registered_model(EXPERIMENT_NAME)\n",
    "    print(f\"✅ Registered model '{EXPERIMENT_NAME}' created in the Model Registry.\")\n",
    "except Exception as e:\n",
    "    print(f\"ℹ️ {e}\")\n",
    "    print(f\"✅ Registered model '{EXPERIMENT_NAME}' already exists, continuing.\")\n",
    "\n",
    "with mlflow.start_run():\n",
    "    mlflow.log_params(params)\n",
    "\n",
    "    model = LGBMRegressor(**params, n_estimators=100)\n",
    "    model.fit(\n",
    "        X_train, y_train,\n",
    "        eval_set=[(X_train, y_train), (X_test, y_test)],\n",
    "        callbacks=[early_stopping(stopping_rounds=10)],\n",
    "    )\n",
    "\n",
    "    y_pred = model.predict(X_test)\n",
    "    rmse = root_mean_squared_error(y_test, y_pred)\n",
    "    r2 = r2_score(y_test, y_pred)\n",
    "\n",
    "    mlflow.log_metric(\"rmse\", rmse)\n",
    "    mlflow.log_metric(\"r2\", r2)\n",
    "\n",
    "    mlflow.sklearn.log_model(model, \"model\", registered_model_name=EXPERIMENT_NAME)\n",
    "\n",
    "    client = MlflowClient()\n",
    "    run_id = mlflow.active_run().info.run_id\n",
    "\n",
    "    result = client.create_registered_model(EXPERIMENT_NAME)\n",
    "    model_version = client.create_model_version(\n",
    "        name=EXPERIMENT_NAME,\n",
    "        source=f\"{mlflow.get_artifact_uri()}/model\",\n",
    "        run_id=run.info.run_id\n",
    "    )\n",
    "    print(f\"✅ Model version created: {model_version.version}\")\n",
    "\n",
    "print(f\"✅ Training completed with RMSE: {rmse:.5f}, R²: {r2:.5f}\")"
   ]
  },
  {
   "cell_type": "code",
   "execution_count": null,
   "id": "55d03d7f-dc7c-488d-ae92-2c302d2806bb",
   "metadata": {},
   "outputs": [],
   "source": []
  }
 ],
 "metadata": {
  "kernelspec": {
   "display_name": "Python 3 (ipykernel)",
   "language": "python",
   "name": "python3"
  },
  "language_info": {
   "codemirror_mode": {
    "name": "ipython",
    "version": 3
   },
   "file_extension": ".py",
   "mimetype": "text/x-python",
   "name": "python",
   "nbconvert_exporter": "python",
   "pygments_lexer": "ipython3",
   "version": "3.12.8"
  }
 },
 "nbformat": 4,
 "nbformat_minor": 5
}
